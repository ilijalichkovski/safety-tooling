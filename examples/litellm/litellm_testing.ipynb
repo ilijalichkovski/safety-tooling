{
 "cells": [
  {
   "cell_type": "code",
   "execution_count": null,
   "metadata": {},
   "outputs": [],
   "source": [
    "import openai\n",
    "\n",
    "from rtooling.utils.utils import setup_environment\n",
    "\n",
    "setup_environment(openai_tag=\"SCALE_OPENAI_API_KEY\")\n",
    "\n",
    "LITELLM_URL = \"https://litellm.ml.scaleinternal.com/\"\n",
    "client = openai.OpenAI(base_url=LITELLM_URL)\n",
    "\n",
    "# request sent to model set on litellm proxy, `litellm --model`\n",
    "response = client.chat.completions.create(model=\"gpt-3.5-turbo\", messages = [\n",
    "    {\n",
    "        \"role\": \"user\",\n",
    "        \"content\": \"this is a test request, write a short poem\"\n",
    "    }\n",
    "])\n",
    "\n",
    "print(response)"
   ]
  },
  {
   "cell_type": "code",
   "execution_count": null,
   "metadata": {},
   "outputs": [],
   "source": [
    "import pathlib\n",
    "\n",
    "from rtooling.apis import InferenceAPI\n",
    "from rtooling.data_models import ChatMessage, MessageRole, Prompt\n",
    "from rtooling.utils import utils\n",
    "\n",
    "utils.setup_environment(openai_tag=\"SCALE_OPENAI_API_KEY\")\n",
    "\n",
    "HOME_DIR = pathlib.Path.home()\n",
    "LITELLM_URL = \"https://litellm.ml.scaleinternal.com/\"\n",
    "# API = InferenceAPI(cache_dir=HOME_DIR / \".cache\", openai_base_url=LITELLM_URL)\n",
    "API_NO_CACHE = InferenceAPI(cache_dir=None, openai_base_url=LITELLM_URL)\n",
    "\n",
    "prompt = Prompt(messages=[ChatMessage(content=\"What is your name?\", role=MessageRole.user)])\n",
    "response = await API_NO_CACHE(\n",
    "    model_ids=\"gpt-4o-mini\",\n",
    "    prompt=prompt,\n",
    "    print_prompt_and_response=True,\n",
    "    max_attempts_per_api_call=1,\n",
    ")"
   ]
  },
  {
   "cell_type": "code",
   "execution_count": null,
   "metadata": {},
   "outputs": [],
   "source": [
    "import os\n",
    "\n",
    "import requests\n",
    "\n",
    "url = \"https://api.openai.com/v1/chat/completions\"\n",
    "api_key = os.environ[\"OPENAI_API_KEY\"]\n",
    "headers = {\n",
    "    \"Content-Type\": \"application/json\",\n",
    "    \"Authorization\": f\"Bearer {api_key}\"\n",
    "}\n",
    "data = {\n",
    "    \"model\": \"gpt-4o-mini\",\n",
    "    \"messages\": [{\"role\": \"user\", \"content\": \"Say 1\"}],\n",
    "}\n",
    "response = requests.post(LITELLM_URL + \"/v1/chat/completions\", headers=headers, json=data)\n",
    "response.headers\n",
    "\n",
    "print(\n",
    "    f\"Rate Limit Tokens: {response.headers['x-ratelimit-limit-tokens']}\",\n",
    "    f\"Rate Limit Requests: {response.headers['x-ratelimit-limit-requests']}\",\n",
    "    f\"Remaining Tokens: {response.headers['x-ratelimit-remaining-tokens']}\",\n",
    "    f\"Remaining Requests: {response.headers['x-ratelimit-remaining-requests']}\",\n",
    "    sep=\"\\n\"\n",
    ")"
   ]
  }
 ],
 "metadata": {
  "kernelspec": {
   "display_name": "Python 3",
   "language": "python",
   "name": "python3"
  },
  "language_info": {
   "codemirror_mode": {
    "name": "ipython",
    "version": 3
   },
   "file_extension": ".py",
   "mimetype": "text/x-python",
   "name": "python",
   "nbconvert_exporter": "python",
   "pygments_lexer": "ipython3",
   "version": "3.11.7"
  }
 },
 "nbformat": 4,
 "nbformat_minor": 2
}
