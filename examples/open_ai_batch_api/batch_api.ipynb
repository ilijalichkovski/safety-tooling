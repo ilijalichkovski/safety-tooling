{
 "cells": [
  {
   "cell_type": "code",
   "execution_count": 13,
   "metadata": {},
   "outputs": [
    {
     "name": "stdout",
     "output_type": "stream",
     "text": [
      "The autoreload extension is already loaded. To reload it, use:\n",
      "  %reload_ext autoreload\n"
     ]
    }
   ],
   "source": [
    "%load_ext autoreload\n",
    "%autoreload 2"
   ]
  },
  {
   "cell_type": "code",
   "execution_count": 14,
   "metadata": {},
   "outputs": [],
   "source": [
    "# put safety-tooling in the path\n",
    "import sys\n",
    "import os\n",
    "import pathlib\n",
    "\n",
    "def put_submodule_in_python_path(submodule_name: str):\n",
    "    repo_root = pathlib.Path(os.getcwd())\n",
    "    submodule_path = repo_root / submodule_name\n",
    "    if submodule_path.exists():\n",
    "        sys.path.append(str(submodule_path))\n",
    "\n",
    "put_submodule_in_python_path(\"safety-tooling\")\n"
   ]
  },
  {
   "cell_type": "code",
   "execution_count": 15,
   "metadata": {},
   "outputs": [],
   "source": [
    "from safetytooling.apis.inference.openai.batch_api import OpenAIModelBatch\n",
    "from safetytooling.data_models import ChatMessage, LLMResponse, MessageRole, Prompt\n",
    "from safetytooling.utils import utils\n",
    "\n",
    "utils.setup_environment(logging_level=\"warning\", openai_tag=\"OPENAI_API_KEY1\", anthropic_tag=\"ANTHROPIC_API_KEY_BATCH\")"
   ]
  },
  {
   "cell_type": "code",
   "execution_count": 16,
   "metadata": {},
   "outputs": [],
   "source": [
    "prompts = [\n",
    "    Prompt(messages=[ChatMessage(content=\"Say 1\", role=MessageRole.user)]),\n",
    "    Prompt(messages=[ChatMessage(content=\"Say 2\", role=MessageRole.user)]),\n",
    "    Prompt(messages=[ChatMessage(content=\"Say 3\", role=MessageRole.user)]),\n",
    "    Prompt(messages=[ChatMessage(content=\"Say 4\", role=MessageRole.user)]),\n",
    "    Prompt(messages=[ChatMessage(content=\"Say 5\", role=MessageRole.user)]),\n",
    "]"
   ]
  },
  {
   "cell_type": "code",
   "execution_count": 17,
   "metadata": {},
   "outputs": [],
   "source": [
    "batch_model = OpenAIModelBatch()\n",
    "model_id = \"gpt-4o-mini\"\n",
    "log_dir = pathlib.Path(\"logs\")\n",
    "log_dir.mkdir(parents=True, exist_ok=True)"
   ]
  },
  {
   "cell_type": "code",
   "execution_count": null,
   "metadata": {},
   "outputs": [],
   "source": [
    "responses, batch_id = await batch_model(model_id=model_id, prompts=prompts[0:2], log_dir=log_dir, max_tokens=10)\n"
   ]
  },
  {
   "cell_type": "markdown",
   "metadata": {},
   "source": [
    "### Testing each function separately"
   ]
  },
  {
   "cell_type": "code",
   "execution_count": 18,
   "metadata": {},
   "outputs": [],
   "source": [
    "input_file_path = batch_model.prompts_to_file(model_id, prompts, log_dir, max_tokens=100)\n"
   ]
  },
  {
   "cell_type": "code",
   "execution_count": 20,
   "metadata": {},
   "outputs": [
    {
     "data": {
      "text/plain": [
       "FileObject(id='file-EkKG5dL64wNrKcdiGcKqpP', bytes=1070, created_at=1736346945, filename='batch_input.jsonl', object='file', purpose='batch', status='processed', status_details=None)"
      ]
     },
     "execution_count": 20,
     "metadata": {},
     "output_type": "execute_result"
    }
   ],
   "source": [
    "batch_file_object = batch_model.client.files.create(file=open(input_file_path, \"rb\"), purpose=\"batch\")\n",
    "batch_file_object"
   ]
  },
  {
   "cell_type": "code",
   "execution_count": 21,
   "metadata": {},
   "outputs": [
    {
     "data": {
      "text/plain": [
       "Batch(id='batch_677e8d44657c81909366639bbb5ac367', completion_window='24h', created_at=1736346948, endpoint='/v1/chat/completions', input_file_id='file-EkKG5dL64wNrKcdiGcKqpP', object='batch', status='validating', cancelled_at=None, cancelling_at=None, completed_at=None, error_file_id=None, errors=None, expired_at=None, expires_at=1736433348, failed_at=None, finalizing_at=None, in_progress_at=None, metadata={'description': 'batch processing'}, output_file_id=None, request_counts=BatchRequestCounts(completed=0, failed=0, total=0))"
      ]
     },
     "execution_count": 21,
     "metadata": {},
     "output_type": "execute_result"
    }
   ],
   "source": [
    "\n",
    "batch_object = batch_model.create_message_batch(input_file_id=batch_file_object.id)\n",
    "batch_object"
   ]
  },
  {
   "cell_type": "code",
   "execution_count": 22,
   "metadata": {},
   "outputs": [
    {
     "name": "stdout",
     "output_type": "stream",
     "text": [
      "Batch batch_677e8d44657c81909366639bbb5ac367 created with 5 requests\n"
     ]
    }
   ],
   "source": [
    "import json\n",
    "\n",
    "log_file = log_dir / f\"batch_id_{batch_object.id}.json\"\n",
    "log_file.parent.mkdir(parents=True, exist_ok=True)\n",
    "with open(log_file, \"w\") as f:\n",
    "    json.dump(batch_object.model_dump(), f)\n",
    "print(f\"Batch {batch_object.id} created with {len(prompts)} requests\")\n"
   ]
  },
  {
   "cell_type": "code",
   "execution_count": 23,
   "metadata": {},
   "outputs": [
    {
     "data": {
      "text/plain": [
       "Batch(id='batch_677e8d44657c81909366639bbb5ac367', completion_window='24h', created_at=1736346948, endpoint='/v1/chat/completions', input_file_id='file-EkKG5dL64wNrKcdiGcKqpP', object='batch', status='in_progress', cancelled_at=None, cancelling_at=None, completed_at=None, error_file_id=None, errors=None, expired_at=None, expires_at=1736433348, failed_at=None, finalizing_at=None, in_progress_at=1736346949, metadata={'description': 'batch processing'}, output_file_id=None, request_counts=BatchRequestCounts(completed=0, failed=0, total=5))"
      ]
     },
     "execution_count": 23,
     "metadata": {},
     "output_type": "execute_result"
    }
   ],
   "source": [
    "batch_model.retrieve_message_batch(batch_object.id)"
   ]
  },
  {
   "cell_type": "code",
   "execution_count": 24,
   "metadata": {},
   "outputs": [],
   "source": [
    "batch_object = await batch_model.poll_message_batch(batch_object.id)\n"
   ]
  },
  {
   "cell_type": "code",
   "execution_count": null,
   "metadata": {},
   "outputs": [],
   "source": [
    "\n",
    "results = batch_model.retrieve_message_batch_results(batch_object.output_file_id)\n",
    "\n",
    "responses = []\n",
    "for result in results:\n",
    "    if result['response']['status_code'] == 200:\n",
    "        body = result['response']['body']\n",
    "        choice = body['choices'][0]\n",
    "        responses.append(\n",
    "            LLMResponse(\n",
    "                model_id=model_id,\n",
    "                completion=choice['message']['content'],\n",
    "                stop_reason=choice['finish_reason'],\n",
    "                duration=None,  # Batch does not track individual durations\n",
    "                api_duration=None,\n",
    "                cost=0,\n",
    "            )\n",
    "        )"
   ]
  }
 ],
 "metadata": {
  "kernelspec": {
   "display_name": "Python 3",
   "language": "python",
   "name": "python3"
  },
  "language_info": {
   "codemirror_mode": {
    "name": "ipython",
    "version": 3
   },
   "file_extension": ".py",
   "mimetype": "text/x-python",
   "name": "python",
   "nbconvert_exporter": "python",
   "pygments_lexer": "ipython3",
   "version": "3.11.7"
  }
 },
 "nbformat": 4,
 "nbformat_minor": 2
}
